{
 "cells": [
  {
   "cell_type": "markdown",
   "metadata": {},
   "source": [
    "## Lima-7b V3 vs. Alpaca-7b\n",
    "\n",
    "- **lima-7b**\n",
    "\n",
    "./out/lora/lima/v3_dec_16_instr_3e-5/lit-llama-lora-finetuned.pth\n",
    "\n",
    "## Case study\n"
   ]
  },
  {
   "cell_type": "code",
   "execution_count": 1,
   "metadata": {},
   "outputs": [],
   "source": [
    "import json\n",
    "import os"
   ]
  },
  {
   "cell_type": "code",
   "execution_count": 2,
   "metadata": {},
   "outputs": [],
   "source": [
    "lima_inference_path = \"/workspace/lit-llama/out/lora/lima/lima-23-12-16-16-12-35.json\"\n",
    "alpaca_inference_path = \"/workspace/lit-llama/out/lora/alpaca/alpaca-23-12-16-16-12-45.json\""
   ]
  },
  {
   "cell_type": "code",
   "execution_count": 3,
   "metadata": {},
   "outputs": [],
   "source": [
    "def rprint(msg, head=None):\n",
    "    print()\n",
    "    if head is not None:\n",
    "        print(head)\n",
    "    else:\n",
    "        print('='*25)\n",
    "    print(msg)"
   ]
  },
  {
   "cell_type": "code",
   "execution_count": 5,
   "metadata": {},
   "outputs": [
    {
     "name": "stdout",
     "output_type": "stream",
     "text": [
      "\n",
      "==== Question ====\n",
      "How do I find out which process is using my webcam on macOS?\n",
      "\n",
      "==== Alpaca Response ====\n",
      "To find out which process is using your webcam on macOS, open the Activity Monitor app and select the CPU tab. Click on the CPU usage graph to show the processes using your webcam.\n",
      "\n",
      "==== LIMA Response ====\n",
      "On macOS, I use the built-in Photo Booth program to record video. However, I sometimes notice that the webcam is used by another application without me noticing.\n",
      "How can I find out which program is currently using my webcam? I prefer a GUI solution. If possible, in Terminal as well.\n",
      "macos camera\n",
      "You would need to explicitly install a webcam driver. Some of them are supported by the OS, but they don't get shared with other apps.\n",
      "You can make Photo Booth the default app for video camera preview by selecting it via System Preferences -> Security & Privacy -> Privacy -> Camera\n",
      "You can then set up a process monitor (e.g., Monitor) to watch file system changes. When Photo Booth is turned off, you can assume the permissions change is due to other apps accessing the camera.\n",
      "Alternatively, you can just right-click the camera icon and choose the \"Share Screen\" menu item. That gives you direct access to a list of apps that can use the camera.\n",
      "Not the answer you're looking for? Browse other questions tagged macos camera .\n",
      "How to enable webcam on MacBook Air for non-Apple apps?\n",
      "How can I use my Dell laptop webcam on Mac OS X?\n",
      "How do I see the webcam on my Mac?\n",
      "How to stop Skype from using the webcam on Mac?\n",
      "How can I make it so that the built-in webcam is always used for FaceTime?\n"
     ]
    }
   ],
   "source": [
    "with open(lima_inference_path, \"r\") as f:\n",
    "    lima_inferences = json.load(f)\n",
    "with open(alpaca_inference_path, \"r\") as f:\n",
    "    alpaca_inferences = json.load(f)\n",
    "\n",
    "POS=3\n",
    "lima_case, alpaca_case = lima_inferences[POS], alpaca_inferences[POS]\n",
    "rprint(lima_case[\"inputs\"], \"==== Question ====\")\n",
    "rprint(alpaca_case[\"response\"], \"==== Alpaca Response ====\")\n",
    "rprint(lima_case[\"response\"], \"==== LIMA Response ====\")"
   ]
  }
 ],
 "metadata": {
  "kernelspec": {
   "display_name": "gpt2xl",
   "language": "python",
   "name": "python3"
  },
  "language_info": {
   "codemirror_mode": {
    "name": "ipython",
    "version": 3
   },
   "file_extension": ".py",
   "mimetype": "text/x-python",
   "name": "python",
   "nbconvert_exporter": "python",
   "pygments_lexer": "ipython3",
   "version": "3.8.18"
  }
 },
 "nbformat": 4,
 "nbformat_minor": 2
}
